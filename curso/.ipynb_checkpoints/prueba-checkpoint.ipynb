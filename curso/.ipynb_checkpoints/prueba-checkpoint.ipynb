{
 "cells": [
  {
   "cell_type": "code",
   "execution_count": null,
   "id": "cb0dbe30",
   "metadata": {},
   "outputs": [],
   "source": [
    "import pandas as pd\n",
    "from collections import Counter\n",
    "from sklearn.utils import shuffle\n",
    "from sklearn.metrics.pairwise import pairwise_distances"
   ]
  },
  {
   "cell_type": "code",
   "execution_count": 1,
   "id": "e7de9884",
   "metadata": {},
   "outputs": [],
   "source": [
    "# df = pd.read_csv('../data/rating.csv')"
   ]
  },
  {
   "cell_type": "code",
   "execution_count": 2,
   "id": "4fc62261",
   "metadata": {},
   "outputs": [
    {
     "name": "stdout",
     "output_type": "stream",
     "text": [
      "N: 10000 M: 2000\n"
     ]
    }
   ],
   "source": [
    "# https://udemy.com/recommender-systems\n",
    "# https://deeplearningcourses.com/recommender-systems\n",
    "from __future__ import print_function, division\n",
    "from builtins import range, input\n",
    "# Note: you may need to update your version of future\n",
    "# sudo pip install -U future\n",
    "\n",
    "import pickle\n",
    "import numpy as np\n",
    "import pandas as pd\n",
    "import matplotlib.pyplot as plt\n",
    "from sklearn.utils import shuffle\n",
    "from datetime import datetime\n",
    "from sortedcontainers import SortedList\n",
    "\n",
    "# load in the data\n",
    "import os\n",
    "if not os.path.exists('user2movie.json') or \\\n",
    "   not os.path.exists('movie2user.json') or \\\n",
    "   not os.path.exists('usermovie2rating.json') or \\\n",
    "   not os.path.exists('usermovie2rating_test.json'):\n",
    "   import preprocess2dict\n",
    "\n",
    "\n",
    "with open('user2movie.json', 'rb') as f:\n",
    "  user2movie = pickle.load(f)\n",
    "\n",
    "with open('movie2user.json', 'rb') as f:\n",
    "  movie2user = pickle.load(f)\n",
    "\n",
    "with open('usermovie2rating.json', 'rb') as f:\n",
    "  usermovie2rating = pickle.load(f)\n",
    "\n",
    "with open('usermovie2rating_test.json', 'rb') as f:\n",
    "  usermovie2rating_test = pickle.load(f)\n",
    "\n",
    "\n",
    "N = np.max(list(user2movie.keys())) + 1\n",
    "# the test set may contain movies the train set doesn't have data on\n",
    "m1 = np.max(list(movie2user.keys()))\n",
    "m2 = np.max([m for (u, m), r in usermovie2rating_test.items()])\n",
    "M = max(m1, m2) + 1\n",
    "print(\"N:\", N, \"M:\", M)\n",
    "\n",
    "if N > 10000:\n",
    "  print(\"N =\", N, \"are you sure you want to continue?\")\n",
    "  print(\"Comment out these lines if so...\")\n",
    "  exit()\n",
    "\n",
    "\n",
    "# to find the user similarities, you have to do O(N^2 * M) calculations!\n",
    "# in the \"real-world\" you'd want to parallelize this\n",
    "# note: we really only have to do half the calculations, since w_ij is symmetric\n",
    "K = 25 # number of neighbors we'd like to consider\n",
    "limit = 5 # number of common movies users must have in common in order to consider\n",
    "neighbors = [] # store neighbors in this list\n",
    "averages = [] # each user's average rating for later use\n",
    "deviations = [] # each user's deviation for later use"
   ]
  },
  {
   "cell_type": "code",
   "execution_count": null,
   "id": "8c8ef086",
   "metadata": {},
   "outputs": [],
   "source": [
    "rating_a = [usermovie2rating[(ii, movie)] for movie in common_movies]\n",
    "rating_b = [usermovie2rating[(jj, movie)] for movie in common_movies]\n",
    "ranking_matrix  = pd.DataFrame( [rating_a, rating_b])\n",
    "ranking_matrix.columns = common_movies\n",
    "pearson_sim = 1-pairwise_distances(ranking_matrix, metric=\"correlation\")"
   ]
  },
  {
   "cell_type": "code",
   "execution_count": 25,
   "id": "bc070b43",
   "metadata": {},
   "outputs": [
    {
     "name": "stdout",
     "output_type": "stream",
     "text": [
      "41\n",
      "0.0\n"
     ]
    },
    {
     "data": {
      "text/plain": [
       "{41: SortedList([(-0.5808446008899435, 232), (-0.5372451395438373, 535), (-0.5327700222259281, 62), (-0.49488812296589924, 565), (-0.48311434162720585, 316), (-0.4522032836745049, 1339), (-0.45159679590048235, 57), (-0.4406129945147563, 282), (-0.4316128883383371, 366), (-0.4307524834967977, 1214), (-0.4290328760072951, 254), (-0.42040460076778635, 193), (-0.4165714065298775, 24), (-0.41542347328717133, 1087), (-0.4144360225239783, 1930), (-0.41376465046191746, 141), (-0.4130993058035583, 1170), (-0.4122120084382179, 13), (-0.4120215483420054, 1915), (-0.41144516327552677, 604), (-0.4108776675339803, 979), (-0.41051136800729443, 68), (-0.40492220219819003, 65), (-0.4048256172781659, 1038), (-0.4043932178150341, 958)])}"
      ]
     },
     "execution_count": 25,
     "metadata": {},
     "output_type": "execute_result"
    }
   ],
   "source": [
    "def calculate_weight(movie2user, usermovie2rating):\n",
    "    count = 0\n",
    "    neighbors = {}  # store neighbors in this list\n",
    "    K = 25  # number of neighbors we'd like to consider\n",
    "    limit = 5  # number of common movies users must have in common in order to consider\n",
    "\n",
    "    for i in movie2user.keys():\n",
    "\n",
    "        print(i)\n",
    "        print(100 * (count / len(movie2user)))\n",
    "        count += 1\n",
    "\n",
    "        sl = SortedList()\n",
    "\n",
    "        users_i = movie2user[i]\n",
    "        users_i_set = set(users_i)\n",
    "\n",
    "        for j in movie2user.keys():\n",
    "\n",
    "            if i != j:\n",
    "                users_j = movie2user[j]\n",
    "                users_j_set = set(users_j)\n",
    "\n",
    "                common_users = (users_i_set & users_j_set)  # intersection\n",
    "                \n",
    "                if len(common_users) > limit:\n",
    "                    ratings_i = {user: usermovie2rating[(user, i)] for user in common_users}\n",
    "                    avg_i = np.mean(list(ratings_i.values()))\n",
    "                    dev_i = {user: (rating - avg_i) for user, rating in ratings_i.items()}\n",
    "                    dev_i_values = np.array(list(dev_i.values()))\n",
    "                    sigma_i = np.sqrt(dev_i_values.dot(dev_i_values))\n",
    "\n",
    "                    # # save these for later use\n",
    "                    # averages.append(avg_i)\n",
    "                    # deviations.append(dev_i)\n",
    "\n",
    "                    ratings_j = {user: usermovie2rating[(user, j)] for user in common_users}\n",
    "                    avg_j = np.mean(list(ratings_j.values()))\n",
    "                    dev_j = {user: (rating - avg_j) for user, rating in ratings_j.items()}\n",
    "                    dev_j_values = np.array(list(dev_j.values()))\n",
    "                    sigma_j = np.sqrt(dev_j_values.dot(dev_j_values))\n",
    "\n",
    "                    numerator = sum(dev_i[m] * dev_j[m] for m in common_users)\n",
    "                    w_ij = numerator / (sigma_i * sigma_j)\n",
    "\n",
    "                    sl.add((-w_ij, j))\n",
    "\n",
    "                    if len(sl) > K:\n",
    "                        del sl[-1]\n",
    "\n",
    "                # store the neighbors\n",
    "                neighbors[i] = sl\n",
    "        break\n",
    "\n",
    "    return neighbors\n",
    "\n",
    "neighbors = calculate_weight(movie2user, usermovie2rating)\n",
    "neighbors"
   ]
  },
  {
   "cell_type": "code",
   "execution_count": 32,
   "id": "8d4287fc",
   "metadata": {},
   "outputs": [
    {
     "ename": "NameError",
     "evalue": "name 'pairwise_distances' is not defined",
     "output_type": "error",
     "traceback": [
      "\u001b[1;31m---------------------------------------------------------------------------\u001b[0m",
      "\u001b[1;31mNameError\u001b[0m                                 Traceback (most recent call last)",
      "Cell \u001b[1;32mIn[32], line 10\u001b[0m\n\u001b[0;32m      8\u001b[0m ratings_j \u001b[38;5;241m=\u001b[39m {user: usermovie2rating[(user, j)] \u001b[38;5;28;01mfor\u001b[39;00m user \u001b[38;5;129;01min\u001b[39;00m common_users}\n\u001b[0;32m      9\u001b[0m ranking_matrix \u001b[38;5;241m=\u001b[39m pd\u001b[38;5;241m.\u001b[39mDataFrame([ratings_i, ratings_j], columns \u001b[38;5;241m=\u001b[39m \u001b[38;5;28mlist\u001b[39m(common_users))\n\u001b[1;32m---> 10\u001b[0m pearson_sim \u001b[38;5;241m=\u001b[39m \u001b[38;5;241m1\u001b[39m\u001b[38;5;241m-\u001b[39m\u001b[43mpairwise_distances\u001b[49m(ranking_matrix, metric\u001b[38;5;241m=\u001b[39m\u001b[38;5;124m\"\u001b[39m\u001b[38;5;124mcorrelation\u001b[39m\u001b[38;5;124m\"\u001b[39m)\n\u001b[0;32m     11\u001b[0m pearson_sim\n",
      "\u001b[1;31mNameError\u001b[0m: name 'pairwise_distances' is not defined"
     ]
    }
   ],
   "source": [
    "i = 41\n",
    "j = 232\n",
    "users_i_set = set(movie2user[i])\n",
    "users_j_set = set(movie2user[j])\n",
    "common_users = (users_i_set & users_j_set)  # intersection\n",
    "\n",
    "ratings_i = {user: usermovie2rating[(user, i)] for user in common_users}\n",
    "ratings_j = {user: usermovie2rating[(user, j)] for user in common_users}\n",
    "ranking_matrix = pd.DataFrame([ratings_i, ratings_j], columns = list(common_users))\n",
    "pearson_sim = 1-pairwise_distances(ranking_matrix, metric=\"correlation\")\n",
    "pearson_sim"
   ]
  },
  {
   "cell_type": "code",
   "execution_count": null,
   "id": "d1c0f7c1",
   "metadata": {},
   "outputs": [],
   "source": [
    "rating_a = [usermovie2rating[(ii, movie)] for movie in common_movies]\n",
    "rating_b = [usermovie2rating[(jj, movie)] for movie in common_movies]\n",
    "ranking_matrix  = pd.DataFrame( [rating_a, rating_b])\n",
    "ranking_matrix.columns = common_movies\n",
    "pearson_sim = 1-pairwise_distances(ranking_matrix, metric=\"correlation\")"
   ]
  },
  {
   "cell_type": "code",
   "execution_count": null,
   "id": "ba110449",
   "metadata": {},
   "outputs": [],
   "source": []
  },
  {
   "cell_type": "code",
   "execution_count": null,
   "id": "89aaacf1",
   "metadata": {},
   "outputs": [],
   "source": []
  },
  {
   "cell_type": "code",
   "execution_count": null,
   "id": "ea23bc82",
   "metadata": {},
   "outputs": [],
   "source": []
  },
  {
   "cell_type": "code",
   "execution_count": null,
   "id": "0b88fc13",
   "metadata": {},
   "outputs": [],
   "source": []
  }
 ],
 "metadata": {
  "kernelspec": {
   "display_name": "Python 3 (ipykernel)",
   "language": "python",
   "name": "python3"
  },
  "language_info": {
   "codemirror_mode": {
    "name": "ipython",
    "version": 3
   },
   "file_extension": ".py",
   "mimetype": "text/x-python",
   "name": "python",
   "nbconvert_exporter": "python",
   "pygments_lexer": "ipython3",
   "version": "3.11.1"
  }
 },
 "nbformat": 4,
 "nbformat_minor": 5
}
